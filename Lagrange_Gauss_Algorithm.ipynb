{
 "cells": [
  {
   "cell_type": "code",
   "execution_count": 36,
   "metadata": {},
   "outputs": [],
   "source": [
    "import numpy as np\n",
    "def lagrangegauss (X):\n",
    "    '''\n",
    "    Input X is a 2 by 2 matrix such that the columns of X are original basis vectors of x1 and x2\n",
    "    Output is the reduced basis vectors {y1, y2}\n",
    "    '''\n",
    "    mu = 1; #something not zeros\n",
    "    x1 = X[:,0]\n",
    "    x2 = X[:,1]\n",
    "    while mu != 0:\n",
    "        norm_x1 = np.sqrt(x1.dot(x1))\n",
    "        norm_x2 = np.sqrt(x2.dot(x2))\n",
    "        if (norm_x1 > norm_x2):\n",
    "            temp = x1\n",
    "            x1 = x2\n",
    "            x2 = temp\n",
    "        mu = x1.dot(x2) / (x1.dot(x1))\n",
    "        if mu == 0:\n",
    "            break\n",
    "        else:\n",
    "            x2 = x2 - mu * x1              \n",
    "    return x1, x2"
   ]
  },
  {
   "cell_type": "code",
   "execution_count": 38,
   "metadata": {},
   "outputs": [],
   "source": [
    "X = np.array([[4,5], [6,13]])\n",
    "y1, y2 = lagrangegauss(X)\n"
   ]
  },
  {
   "cell_type": "code",
   "execution_count": 40,
   "metadata": {},
   "outputs": [
    {
     "data": {
      "text/plain": [
       "0.0"
      ]
     },
     "execution_count": 40,
     "metadata": {},
     "output_type": "execute_result"
    }
   ],
   "source": [
    "y1.dot(y2)"
   ]
  },
  {
   "cell_type": "code",
   "execution_count": null,
   "metadata": {},
   "outputs": [],
   "source": []
  }
 ],
 "metadata": {
  "kernelspec": {
   "display_name": "Python 3",
   "language": "python",
   "name": "python3"
  },
  "language_info": {
   "codemirror_mode": {
    "name": "ipython",
    "version": 3
   },
   "file_extension": ".py",
   "mimetype": "text/x-python",
   "name": "python",
   "nbconvert_exporter": "python",
   "pygments_lexer": "ipython3",
   "version": "3.7.1"
  }
 },
 "nbformat": 4,
 "nbformat_minor": 2
}
